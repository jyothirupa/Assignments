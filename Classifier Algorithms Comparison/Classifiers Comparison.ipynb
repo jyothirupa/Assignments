{
 "cells": [
  {
   "cell_type": "code",
   "execution_count": 58,
   "metadata": {},
   "outputs": [],
   "source": [
    "#functions to get values of performance metrices\n",
    "def accuracy(cm):\n",
    "    den = sum(sum(cm))\n",
    "    if(den==0):\n",
    "        return None\n",
    "    return (cm[0][0]+cm[1][1])/den\n",
    "\n",
    "def recall(cm):\n",
    "    den = cm[0][0]+cm[1][0]\n",
    "    if(den==0):\n",
    "        return None\n",
    "    return (cm[0][0])/den\n",
    "    \n",
    "def precision(cm):\n",
    "    den = cm[0][0]+cm[0][1]\n",
    "    if(den==0):\n",
    "        return None\n",
    "    return (cm[0][0])/den\n",
    "\n",
    "def specificity(cm):\n",
    "    den = cm[1][1]+cm[0][1]\n",
    "    if(den==0):\n",
    "        return None\n",
    "    return (cm[1][1])/den\n",
    "    \n",
    "def f1_score(cm):\n",
    "    den = precision(cm)+recall(cm)\n",
    "    if(den==0):\n",
    "        return None\n",
    "    return (2 * precision(cm)*recall(cm))/den"
   ]
  },
  {
   "cell_type": "code",
   "execution_count": 59,
   "metadata": {},
   "outputs": [],
   "source": [
    "import time\n",
    "import pandas\n",
    "import matplotlib.pyplot as plt\n",
    "from sklearn import model_selection\n",
    "from sklearn.metrics import confusion_matrix\n",
    "from sklearn.linear_model import LogisticRegression\n",
    "from sklearn.tree import DecisionTreeClassifier\n",
    "from sklearn.neighbors import KNeighborsClassifier\n",
    "from sklearn.discriminant_analysis import LinearDiscriminantAnalysis\n",
    "from sklearn.naive_bayes import GaussianNB\n",
    "from sklearn.svm import SVC\n",
    "from sklearn.cluster import KMeans"
   ]
  },
  {
   "cell_type": "code",
   "execution_count": 60,
   "metadata": {},
   "outputs": [],
   "source": [
    "# load dataset\n",
    "names = ['preg', 'plas', 'pres', 'skin', 'test', 'mass', 'pedi', 'age', 'class']\n",
    "dataframe = pandas.read_csv('diabetes.csv', names=names)\n",
    "array = dataframe.values\n",
    "X = array[:,0:8]\n",
    "Y = array[:,8]"
   ]
  },
  {
   "cell_type": "code",
   "execution_count": 61,
   "metadata": {},
   "outputs": [],
   "source": [
    "# prepare models\n",
    "models = []\n",
    "models.append(('LR', LogisticRegression()))\n",
    "models.append(('KNN', KNeighborsClassifier()))\n",
    "models.append(('NB', GaussianNB()))\n",
    "models.append(('SVM', SVC()))\n",
    "models.append(('K-Means', KMeans(n_clusters=2, random_state=1)))"
   ]
  },
  {
   "cell_type": "code",
   "execution_count": 62,
   "metadata": {},
   "outputs": [
    {
     "name": "stdout",
     "output_type": "stream",
     "text": [
      "Confusion Matrices\n",
      "LR : \n",
      "[[446  54]\n",
      " [123 145]]\n",
      "KNN : \n",
      "[[415  85]\n",
      " [125 143]]\n",
      "NB : \n",
      "[[420  80]\n",
      " [108 160]]\n",
      "SVM : \n",
      "[[500   0]\n",
      " [268   0]]\n",
      "K-Means : \n",
      "[[319 181]\n",
      " [159 109]]\n"
     ]
    }
   ],
   "source": [
    "# evaluate each model in turn\n",
    "results = []\n",
    "names = []\n",
    "scoring = 'accuracy'\n",
    "final_results=[]\n",
    "print(\"Confusion Matrices\")\n",
    "for name, model in models:\n",
    "    kfold = model_selection.KFold(n_splits=10, random_state=10)\n",
    "    t1=time.time()\n",
    "    cv_results = model_selection.cross_val_score(model, X, Y, cv=kfold, scoring=scoring)\n",
    "    t2=time.time()\n",
    "    predictions = model_selection.cross_val_predict(model, X, Y, cv=kfold)\n",
    "    cm = confusion_matrix(Y, predictions)\n",
    "    print(name, \": \")\n",
    "    print(cm)\n",
    "    final_results.append({'name':name,\n",
    "                             'accuracy':accuracy(cm),\n",
    "                             'precision':precision(cm),\n",
    "                             'recall':recall(cm),\n",
    "                             'specificity':specificity(cm),\n",
    "                             'f1_score':f1_score(cm),\n",
    "                             'runtime':t2-t1})\n",
    "    results.append(cv_results)\n",
    "    names.append(name)"
   ]
  },
  {
   "cell_type": "code",
   "execution_count": 63,
   "metadata": {},
   "outputs": [
    {
     "name": "stdout",
     "output_type": "stream",
     "text": [
      "Performance Metrics\n"
     ]
    },
    {
     "data": {
      "text/plain": [
       "[{'name': 'LR',\n",
       "  'accuracy': 0.76953125,\n",
       "  'precision': 0.892,\n",
       "  'recall': 0.7838312829525483,\n",
       "  'specificity': 0.7286432160804021,\n",
       "  'f1_score': 0.8344246959775491,\n",
       "  'runtime': 0.06260275840759277},\n",
       " {'name': 'KNN',\n",
       "  'accuracy': 0.7265625,\n",
       "  'precision': 0.83,\n",
       "  'recall': 0.7685185185185185,\n",
       "  'specificity': 0.6271929824561403,\n",
       "  'f1_score': 0.798076923076923,\n",
       "  'runtime': 0.015600204467773438},\n",
       " {'name': 'NB',\n",
       "  'accuracy': 0.7552083333333334,\n",
       "  'precision': 0.84,\n",
       "  'recall': 0.7954545454545454,\n",
       "  'specificity': 0.6666666666666666,\n",
       "  'f1_score': 0.8171206225680934,\n",
       "  'runtime': 0.015599966049194336},\n",
       " {'name': 'SVM',\n",
       "  'accuracy': 0.6510416666666666,\n",
       "  'precision': 1.0,\n",
       "  'recall': 0.6510416666666666,\n",
       "  'specificity': None,\n",
       "  'f1_score': 0.7886435331230284,\n",
       "  'runtime': 0.3166041374206543},\n",
       " {'name': 'K-Means',\n",
       "  'accuracy': 0.5572916666666666,\n",
       "  'precision': 0.638,\n",
       "  'recall': 0.6673640167364017,\n",
       "  'specificity': 0.3758620689655172,\n",
       "  'f1_score': 0.6523517382413089,\n",
       "  'runtime': 0.26960134506225586}]"
      ]
     },
     "execution_count": 63,
     "metadata": {},
     "output_type": "execute_result"
    }
   ],
   "source": [
    "#performance metrics\n",
    "print(\"Performance Metrics\")\n",
    "final_results"
   ]
  },
  {
   "cell_type": "code",
   "execution_count": 64,
   "metadata": {},
   "outputs": [
    {
     "data": {
      "text/html": [
       "<div>\n",
       "<style scoped>\n",
       "    .dataframe tbody tr th:only-of-type {\n",
       "        vertical-align: middle;\n",
       "    }\n",
       "\n",
       "    .dataframe tbody tr th {\n",
       "        vertical-align: top;\n",
       "    }\n",
       "\n",
       "    .dataframe thead th {\n",
       "        text-align: right;\n",
       "    }\n",
       "</style>\n",
       "<table border=\"1\" class=\"dataframe\">\n",
       "  <thead>\n",
       "    <tr style=\"text-align: right;\">\n",
       "      <th></th>\n",
       "      <th>accuracy</th>\n",
       "      <th>f1_score</th>\n",
       "      <th>name</th>\n",
       "      <th>precision</th>\n",
       "      <th>recall</th>\n",
       "      <th>runtime</th>\n",
       "      <th>specificity</th>\n",
       "    </tr>\n",
       "  </thead>\n",
       "  <tbody>\n",
       "    <tr>\n",
       "      <th>0</th>\n",
       "      <td>0.769531</td>\n",
       "      <td>0.834425</td>\n",
       "      <td>LR</td>\n",
       "      <td>0.892</td>\n",
       "      <td>0.783831</td>\n",
       "      <td>0.062603</td>\n",
       "      <td>0.728643</td>\n",
       "    </tr>\n",
       "    <tr>\n",
       "      <th>1</th>\n",
       "      <td>0.726562</td>\n",
       "      <td>0.798077</td>\n",
       "      <td>KNN</td>\n",
       "      <td>0.830</td>\n",
       "      <td>0.768519</td>\n",
       "      <td>0.015600</td>\n",
       "      <td>0.627193</td>\n",
       "    </tr>\n",
       "    <tr>\n",
       "      <th>2</th>\n",
       "      <td>0.755208</td>\n",
       "      <td>0.817121</td>\n",
       "      <td>NB</td>\n",
       "      <td>0.840</td>\n",
       "      <td>0.795455</td>\n",
       "      <td>0.015600</td>\n",
       "      <td>0.666667</td>\n",
       "    </tr>\n",
       "    <tr>\n",
       "      <th>3</th>\n",
       "      <td>0.651042</td>\n",
       "      <td>0.788644</td>\n",
       "      <td>SVM</td>\n",
       "      <td>1.000</td>\n",
       "      <td>0.651042</td>\n",
       "      <td>0.316604</td>\n",
       "      <td>NaN</td>\n",
       "    </tr>\n",
       "    <tr>\n",
       "      <th>4</th>\n",
       "      <td>0.557292</td>\n",
       "      <td>0.652352</td>\n",
       "      <td>K-Means</td>\n",
       "      <td>0.638</td>\n",
       "      <td>0.667364</td>\n",
       "      <td>0.269601</td>\n",
       "      <td>0.375862</td>\n",
       "    </tr>\n",
       "  </tbody>\n",
       "</table>\n",
       "</div>"
      ],
      "text/plain": [
       "   accuracy  f1_score     name  precision    recall   runtime  specificity\n",
       "0  0.769531  0.834425       LR      0.892  0.783831  0.062603     0.728643\n",
       "1  0.726562  0.798077      KNN      0.830  0.768519  0.015600     0.627193\n",
       "2  0.755208  0.817121       NB      0.840  0.795455  0.015600     0.666667\n",
       "3  0.651042  0.788644      SVM      1.000  0.651042  0.316604          NaN\n",
       "4  0.557292  0.652352  K-Means      0.638  0.667364  0.269601     0.375862"
      ]
     },
     "execution_count": 64,
     "metadata": {},
     "output_type": "execute_result"
    }
   ],
   "source": [
    "#plots to determine performance\n",
    "import seaborn as sns\n",
    "import pandas as pd\n",
    "df = pd.DataFrame(final_results)\n",
    "df.head()"
   ]
  },
  {
   "cell_type": "code",
   "execution_count": 84,
   "metadata": {},
   "outputs": [
    {
     "data": {
      "image/png": "[encoded data removed]",
      "text/plain": [
       "<Figure size 432x288 with 1 Axes>"
      ]
     },
     "metadata": {},
     "output_type": "display_data"
    }
   ],
   "source": [
    "#Classifier algorithm vs Accuracy\n",
    "data = df[['name','accuracy']]\n",
    "data = data.sort_values('accuracy')\n",
    "ax = sns.barplot(x=\"name\", y=\"accuracy\", data=data, palette=\"Blues_d\")\n",
    "plt.savefig(\"accuracy.png\")"
   ]
  },
  {
   "cell_type": "code",
   "execution_count": 86,
   "metadata": {},
   "outputs": [
    {
     "data": {
      "image/png": "[encoded data removed]",
      "text/plain": [
       "<Figure size 432x288 with 1 Axes>"
      ]
     },
     "metadata": {},
     "output_type": "display_data"
    }
   ],
   "source": [
    "#Classifier algorithm vs Precision\n",
    "data = df[['name','precision']]\n",
    "data = data.sort_values('precision')\n",
    "ax = sns.barplot(x=\"name\", y=\"precision\", data=data, palette=\"Blues_d\")\n",
    "plt.savefig(\"precision.png\")"
   ]
  },
  {
   "cell_type": "code",
   "execution_count": 87,
   "metadata": {},
   "outputs": [
    {
     "data": {
      "image/png": "[encoded data removed]",
      "text/plain": [
       "<Figure size 432x288 with 1 Axes>"
      ]
     },
     "metadata": {},
     "output_type": "display_data"
    }
   ],
   "source": [
    "#Classifier algorithm vs Recall\n",
    "data = df[['name','recall']]\n",
    "data = data.sort_values('recall')\n",
    "ax = sns.barplot(x=\"name\", y=\"recall\", data=data, palette=\"Blues_d\")\n",
    "plt.savefig(\"recall.png\")"
   ]
  },
  {
   "cell_type": "code",
   "execution_count": 88,
   "metadata": {},
   "outputs": [
    {
     "data": {
      "image/png": "[encoded data removed]",
      "text/plain": [
       "<Figure size 432x288 with 1 Axes>"
      ]
     },
     "metadata": {},
     "output_type": "display_data"
    }
   ],
   "source": [
    "#Classifier algorithm vs Specificity\n",
    "data = df[['name','specificity']]\n",
    "data = data.sort_values('specificity')\n",
    "ax = sns.barplot(x=\"name\", y=\"specificity\", data=data, palette=\"Blues_d\")\n",
    "plt.savefig(\"specificity.png\")"
   ]
  },
  {
   "cell_type": "code",
   "execution_count": 89,
   "metadata": {},
   "outputs": [
    {
     "data": {
      "image/png": "[encoded data removed]",
      "text/plain": [
       "<Figure size 432x288 with 1 Axes>"
      ]
     },
     "metadata": {},
     "output_type": "display_data"
    }
   ],
   "source": [
    "#Classifier algorithm vs Runtime\n",
    "data = df[['name','runtime']]\n",
    "data = data.sort_values('runtime')\n",
    "ax = sns.barplot(x=\"name\", y=\"runtime\", data=data, palette=\"Blues_d\")\n",
    "plt.savefig(\"runtime.png\")"
   ]
  },
  {
   "cell_type": "code",
   "execution_count": 90,
   "metadata": {},
   "outputs": [
    {
     "data": {
      "image/png": "[encoded data removed]",
      "text/plain": [
       "<Figure size 432x288 with 1 Axes>"
      ]
     },
     "metadata": {},
     "output_type": "display_data"
    }
   ],
   "source": [
    "#Classifier algorithm vs F1 Score\n",
    "data = df[['name','f1_score']]\n",
    "data = data.sort_values('f1_score')\n",
    "ax = sns.barplot(x=\"name\", y=\"f1_score\", data=data, palette=\"Blues_d\")\n",
    "plt.savefig(\"f1_score.png\")"
   ]
  }
 ],
 "metadata": {
  "kernelspec": {
   "display_name": "Python 3",
   "language": "python",
   "name": "python3"
  },
  "language_info": {
   "codemirror_mode": {
    "name": "ipython",
    "version": 3
   },
   "file_extension": ".py",
   "mimetype": "text/x-python",
   "name": "python",
   "nbconvert_exporter": "python",
   "pygments_lexer": "ipython3",
   "version": "3.6.5"
  }
 },
 "nbformat": 4,
 "nbformat_minor": 2
}
